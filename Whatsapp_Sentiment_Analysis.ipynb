{
  "nbformat": 4,
  "nbformat_minor": 0,
  "metadata": {
    "colab": {
      "provenance": [],
      "gpuType": "T4"
    },
    "kernelspec": {
      "name": "python3",
      "display_name": "Python 3"
    },
    "language_info": {
      "name": "python"
    },
    "accelerator": "GPU"
  },
  "cells": [
    {
      "cell_type": "markdown",
      "source": [
        "Importing Packages"
      ],
      "metadata": {
        "id": "2DF7Bn3oirMx"
      }
    },
    {
      "cell_type": "code",
      "execution_count": 7,
      "metadata": {
        "id": "pfwiJ0A7iRT_"
      },
      "outputs": [],
      "source": [
        "import pandas as pd\n",
        "import numpy as np\n",
        "import re\n",
        "\n",
        "import matplotlib.pyplot as plt\n",
        "from PIL import Image\n",
        "from datetime import datetime\n",
        "\n",
        "from collections import Counter\n",
        "from wordcloud import WordCloud , STOPWORDS, ImageColorGenerator"
      ]
    },
    {
      "cell_type": "markdown",
      "source": [
        "Importing Dataset"
      ],
      "metadata": {
        "id": "trVItrn6jkql"
      }
    },
    {
      "cell_type": "code",
      "source": [
        "conversation = \"2.txt\""
      ],
      "metadata": {
        "id": "UdcCvF2njmSk"
      },
      "execution_count": 8,
      "outputs": []
    },
    {
      "cell_type": "markdown",
      "source": [
        "Find Time and Authors"
      ],
      "metadata": {
        "id": "ZKqtUBxFlrYf"
      }
    },
    {
      "cell_type": "code",
      "source": [
        "def date_time(s):\n",
        "    pattern = '^([0-9]+)(\\/)([0-9]+)(\\/)([0-9]+), ([0-9]+:[0-9]+) (AM|PM|am|pm) -'\n",
        "    result = re.match(pattern, s)\n",
        "    if result:\n",
        "        return True\n",
        "    return False"
      ],
      "metadata": {
        "id": "EX0GME0alt9i"
      },
      "execution_count": 9,
      "outputs": []
    },
    {
      "cell_type": "code",
      "source": [
        "def find_author(s):\n",
        "    s = s.split(':')\n",
        "    if len(s) == 2:\n",
        "        return True\n",
        "    return False"
      ],
      "metadata": {
        "id": "meoNTZOVm6aZ"
      },
      "execution_count": 10,
      "outputs": []
    },
    {
      "cell_type": "markdown",
      "source": [
        "Find Messages"
      ],
      "metadata": {
        "id": "E2UaC7-FnRbn"
      }
    },
    {
      "cell_type": "code",
      "source": [
        "def message(line):\n",
        "    split_line = line.split(' - ')\n",
        "    datetime_str = split_line[0]\n",
        "    date, time = datetime_str.split(', ')\n",
        "    message = \" \".join(split_line[1:])\n",
        "\n",
        "    if find_author(message):\n",
        "        split_message = message.split(': ')\n",
        "        author = split_message[0]\n",
        "        message = \" \".join(split_message[1:])\n",
        "    else:\n",
        "        author = None\n",
        "    return date, time, author, message"
      ],
      "metadata": {
        "id": "mBRAc1j6nTHJ"
      },
      "execution_count": 11,
      "outputs": []
    },
    {
      "cell_type": "markdown",
      "source": [
        "Preparing the Dataset"
      ],
      "metadata": {
        "id": "bHjoJlk9oe9P"
      }
    },
    {
      "cell_type": "code",
      "source": [
        "data = []\n",
        "\n",
        "\n",
        "with open(conversation, encoding=\"utf-8\") as fp:\n",
        "    fp.readline()\n",
        "    messageBuffer = []\n",
        "    date, time, author = None, None, None\n",
        "\n",
        "    while True:\n",
        "        line = fp.readline()\n",
        "        if not line:\n",
        "            break\n",
        "        line = line.strip()\n",
        "        if date_time(line):\n",
        "            if len(messageBuffer) > 0:\n",
        "                data.append([date, time, author, ' '.join(messageBuffer)])\n",
        "            messageBuffer.clear()\n",
        "            date, time, author, message = message(line)\n",
        "            messageBuffer.append(message)\n",
        "        else:\n",
        "            messageBuffer.append(line)"
      ],
      "metadata": {
        "id": "ea9lsnnWodiN"
      },
      "execution_count": 12,
      "outputs": []
    },
    {
      "cell_type": "markdown",
      "source": [
        "Sentiment Intensity Analyzer Algorithm"
      ],
      "metadata": {
        "id": "ul7uIGtazOXk"
      }
    },
    {
      "cell_type": "code",
      "source": [
        "df = pd.DataFrame(data,columns=[\"Date\",\"Time\",\"Author\",\"Message\"])\n",
        "df[\"Date\"] = pd.to_datetime(df[\"Date\"])\n",
        "data = df.dropna()\n",
        "\n",
        "import nltk\n",
        "nltk.download('vader_lexicon')\n",
        "from nltk.sentiment.vader import SentimentIntensityAnalyzer\n",
        "sentiments = SentimentIntensityAnalyzer()\n",
        "data[\"Positive\"] = [sentiments.polarity_scores(i)[\"pos\"] for i in data[\"Message\"]]\n",
        "data[\"Negative\"] = [sentiments.polarity_scores(i)[\"neg\"] for i in data[\"Message\"]]\n",
        "data[\"Neutral\"] = [sentiments.polarity_scores(i)[\"neu\"] for i in data[\"Message\"]]\n",
        "\n",
        "print(data.head(10))"
      ],
      "metadata": {
        "colab": {
          "base_uri": "https://localhost:8080/"
        },
        "id": "xMdWZxhlzS2S",
        "outputId": "c847ff47-ec92-48c3-a1bb-b733c3e58cbc"
      },
      "execution_count": 13,
      "outputs": [
        {
          "output_type": "stream",
          "name": "stdout",
          "text": [
            "Empty DataFrame\n",
            "Columns: [Date, Time, Author, Message, Positive, Negative, Neutral]\n",
            "Index: []\n"
          ]
        },
        {
          "output_type": "stream",
          "name": "stderr",
          "text": [
            "[nltk_data] Downloading package vader_lexicon to /root/nltk_data...\n",
            "[nltk_data]   Package vader_lexicon is already up-to-date!\n"
          ]
        }
      ]
    },
    {
      "cell_type": "markdown",
      "source": [
        "Validate te sentiment"
      ],
      "metadata": {
        "id": "Z3xOxEfm1eH7"
      }
    },
    {
      "cell_type": "code",
      "source": [
        "x= sum(data[\"Positive\"])\n",
        "y= sum(data[\"Negative\"])\n",
        "z= sum(data[\"Neutral\"])\n",
        "\n",
        "\n",
        "def score(a,b,c):\n",
        "    if a>b and a>c:\n",
        "        print(\"Positive\")\n",
        "    elif b>a and b>c:\n",
        "        print(\"Negative\")\n",
        "    else:\n",
        "        print(\"Neutral\")\n",
        "score(x,y,z)"
      ],
      "metadata": {
        "colab": {
          "base_uri": "https://localhost:8080/"
        },
        "id": "MT0PYr4I1hOc",
        "outputId": "d4d4b87f-3ba5-4531-968c-3a8035b0ee8c"
      },
      "execution_count": 14,
      "outputs": [
        {
          "output_type": "stream",
          "name": "stdout",
          "text": [
            "Neutral\n"
          ]
        }
      ]
    }
  ]
}